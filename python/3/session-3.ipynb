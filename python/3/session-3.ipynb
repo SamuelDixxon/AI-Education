{
 "cells": [
  {
   "cell_type": "markdown",
   "metadata": {},
   "source": [
    "# Algorithms: "
   ]
  },
  {
   "cell_type": "markdown",
   "metadata": {},
   "source": [
    "- What is an algorithm?\n",
    "\n",
    "An algorithm is a **set of instructions or rules** that can be followed to solve a problem⁴. It is a **systematic procedure** that produces an answer to a question or the solution of a problem in a **finite number of steps**⁵. \n",
    "\n",
    "Source: Conversation with Bing, 6/8/2023(1) Algorithm Definition & Meaning | Dictionary.com. https://www.dictionary.com/browse/algorithm Accessed 6/8/2023.\n",
    "(2) Algorithm | Definition, Types, & Facts | Britannica. https://www.britannica.com/science/algorithm Accessed 6/8/2023.\n",
    "(3) . https://bing.com/search?q=algorithm+definition Accessed 6/8/2023.\n",
    "(4) Algorithm Definition & Meaning - Merriam-Webster. https://www.merriam-webster.com/dictionary/algorithm Accessed 6/8/2023.\n",
    "(5) Algorithm - Wikipedia. https://en.wikipedia.org/wiki/Algorithm Accessed 6/8/2023.\n",
    "(6) What is an Algorithm? - Definition from WhatIs.com - TechTarget. https://www.techtarget.com/whatis/definition/algorithm Accessed 6/8/2023.\n"
   ]
  },
  {
   "cell_type": "markdown",
   "metadata": {},
   "source": [
    "- Why is it important for everyone even those that do not wish to program?\n",
    "\n",
    "Algorithms are important because they instruct computers on how they should behave, and all applications require them for proper functioning⁴. They are necessary for solving complex problems efficiently and effectively¹. They help to automate processes and make them more reliable, faster, and easier to perform¹. Algorithms also enable computers to perform tasks that would be difficult or impossible for humans to do manually¹. Therefore, the importance of algorithms is tied to the importance of computers, and computers permeate all aspects of modern life⁴.\n",
    "\n",
    "Source: Conversation with Bing, 6/8/2023(1) What Are Algorithms, and Why Are They Important? | Phoenixite. https://phoenixite.com/why-algorithms-are-important/ Accessed 6/8/2023.\n",
    "(2) What is Algorithm | Introduction to Algorithms - GeeksforGeeks. https://www.geeksforgeeks.org/introduction-to-algorithms/ Accessed 6/8/2023.\n",
    "(3) What is an algorithm and why should you care? - Khan Academy. https://www.khanacademy.org/computing/computer-science/algorithms/intro-to-algorithms/v/what-are-algorithms Accessed 6/8/2023.\n",
    "(4) Experts on the Pros and Cons of Algorithms | Pew Research Center. https://www.pewresearch.org/internet/2017/02/08/code-dependent-pros-and-cons-of-the-algorithm-age/ Accessed 6/8/2023.\n",
    "(5) 13 Reasons to learn Data Structures and Algorithms (2022). https://dev.to/codewithshan/13-reasons-to-learn-data-structures-and-algorithms-2022-bbl Accessed 6/8/2023.\n",
    "(6) Why Algorithms are Important to Learn? - LinkedIn. https://www.linkedin.com/pulse/why-algorithms-important-learn-irshad-parvez Accessed 6/8/2023."
   ]
  },
  {
   "cell_type": "markdown",
   "metadata": {},
   "source": [
    "- How are alogrithms characterized or inspected?\n",
    "An algorithm has several characteristics that can be used to inspect it in a qualitative or quantitative sense. These include **input**, which refers to the values required by the algorithm¹. Another characteristic is **output**, which refers to the outcomes produced by the algorithm¹. An algorithm should also be **unambiguous**, meaning its instructions should be clear and straightforward¹. It should also be **finite**, meaning it must have a definite end¹. Finally, an algorithm should be **effective**, meaning each instruction should have an impact on the overall process¹. Is there anything else you would like to know?\n",
    "\n",
    "Source: Conversation with Bing, 6/8/2023(1) What Is An Algorithm? Characteristics, Types and How to write it. https://www.simplilearn.com/tutorials/data-structure-tutorial/what-is-an-algorithm Accessed 6/8/2023.\n",
    "(2) Algorithm characterizations - Wikipedia. https://en.wikipedia.org/wiki/Algorithm_characterizations Accessed 6/8/2023.\n",
    "(3) The building blocks of algorithms - Khan Academy. https://www.khanacademy.org/computing/ap-computer-science-principles/algorithms-101/building-algorithms/a/the-building-blocks-of-algorithms Accessed 6/8/2023.\n",
    "(4) What is Algorithm | Introduction to Algorithms - GeeksforGeeks. https://www.geeksforgeeks.org/introduction-to-algorithms/ Accessed 6/8/2023.\n"
   ]
  },
  {
   "cell_type": "markdown",
   "metadata": {},
   "source": [
    "- Where ares some places statistics, algorithms, and computer science impact our lives in meaningful ways?\n",
    "\n",
    "Algorithms impact our lives in many meaningful ways. They are a necessary part of the internet and help us navigate the vast amount of content available¹. They are aimed at optimizing everything and can save lives, make things easier, and conquer chaos⁴. For example, algorithms are used in medicine to help diagnose and treat patients, in transportation to optimize routes and reduce traffic, and in welfare benefits to determine eligibility and distribute resources. They are also used in criminal justice to predict recidivism and determine sentencing³. Is there anything else you would like to know?\n",
    "\n",
    "Source: Conversation with Bing, 6/8/2023(1) Do Algorithms Influence Our Lives and Our Democracy?. https://www.commonsense.org/education/articles/do-algorithms-influence-our-lives-and-our-democracy Accessed 6/8/2023.\n",
    "(2) Experts on the Pros and Cons of Algorithms | Pew Research Center. https://www.pewresearch.org/internet/2017/02/08/code-dependent-pros-and-cons-of-the-algorithm-age/ Accessed 6/8/2023.\n",
    "(3) Algorithms are controlling your life - Vox. https://www.vox.com/technology/2018/10/1/17882340/how-algorithms-control-your-life-hannah-fry Accessed 6/8/2023.\n",
    "(4) The algorithms that make big decisions about your life - BBC News. https://www.bbc.com/news/technology-53806038 Accessed 6/8/2023.\n",
    "\n"
   ]
  },
  {
   "cell_type": "markdown",
   "metadata": {},
   "source": [
    "# Famous Algorithms:\n",
    "\n",
    "- What are some famous alorithms that impact our lives?\n",
    "\n",
    "There are many famous algorithms that impact our lives. For example, **Google's PageRank algorithm** determines the order of search results and has a significant impact on the information we access¹. **Facebook's News Feed algorithm** determines the content we see on the platform¹. **OKCupid's Date Matching algorithm** helps people find compatible partners¹. **NSA's Data Collection, Interpretation, and Encryption algorithms** are used for national security purposes¹. **Google AdWords algorithm** determines which ads are shown to us¹. These are just a few examples of the many algorithms that shape our daily lives. Is there anything else you would like to know?\n",
    "\n",
    "Source: Conversation with Bing, 6/8/2023(1) The 10 Algorithms That Dominate Our World - Gizmodo. https://gizmodo.com/the-10-algorithms-that-dominate-our-world-1580110464 Accessed 6/8/2023.\n",
    "(2) The algorithms that make big decisions about your life - BBC News. https://www.bbc.com/news/technology-53806038 Accessed 6/8/2023.\n",
    "(3) 15 of the Most Important Algorithms That Helped Define Mathematics .... https://interestingengineering.com/science/15-of-the-most-important-algorithms-that-helped-define-mathematics-computing-and-physics Accessed 6/8/2023.\n",
    "(4) The Future of Algorithms: Uses, Benefits, and Risks | Singularity. https://www.su.org/blog/welcome-to-the-future-of-algorithms-and-machine-learning Accessed 6/8/2023.\n",
    "(5) 12 unexpected ways algorithms control your life | Mashable. https://mashable.com/article/how-algorithms-control-your-life Accessed 6/8/2023.\n",
    "\n",
    "- What has the timeline been like in terms of development of algorithms and where is the future going with within the context of computer science\n",
    "\n",
    "The development of algorithms has a long history, dating back to ancient civilizations. The word \"algorithm\" can be traced back to the 9th century when it was coined by the Persian mathematician Abdullah Muhammad bin Musa al-Khwarizmi, who is often referred to as \"The Father of Algebra\"⁴. The concept of algorithms was formalized in 1936 through Alan Turing's Turing machines and Alonzo Church's lambda calculus, which in turn formed the foundation of computer science.\n",
    "\n",
    "As for the future of algorithms within the context of computer science, it is difficult to predict with certainty. However, it is likely that algorithms will continue to play an increasingly important role in our lives as technology advances and more data becomes available. There will likely be continued development in areas such as artificial intelligence, machine learning, and data analysis, which rely heavily on algorithms. Is there anything else you would like to know?\n",
    "\n",
    "Source: Conversation with Bing, 6/8/2023(1) History of Algorithms. https://www.enjoyalgorithms.com/blog/history-of-algorithms/ Accessed 6/8/2023.\n",
    "(2) History of Algorithms and Algorithmics - Scriptol.com. https://www.scriptol.com/programming/algorithm-history.php Accessed 6/8/2023.\n",
    "(3) Algorithm - Wikipedia. https://en.wikipedia.org/wiki/Algorithm Accessed 6/8/2023.\n",
    "(4) Timeline of algorithms - Wikipedia. https://en.wikipedia.org/wiki/Timeline_of_algorithms Accessed 6/8/2023.\n",
    "(5) History - An Introduction to Algorithmic Trading - Wiley Online Library. https://onlinelibrary.wiley.com/doi/10.1002/9781119206033.ch1 Accessed 6/8/2023."
   ]
  },
  {
   "cell_type": "markdown",
   "metadata": {},
   "source": [
    "# Lets learn to code a simple alogrithm in Python:"
   ]
  },
  {
   "cell_type": "markdown",
   "metadata": {},
   "source": [
    "- Variables have to characterize the data they hold\n",
    "\n",
    "    - Examples:\n",
    "        - Numeric\n",
    "            - Integers ( 1 , 2 , 3 )\n",
    "            - Floats ( 1.0 , 3.1 , 4.2 )\n",
    "        - Text\n",
    "            - Strings ( \"Tim\" , \"Joe\" , \"Bob\" )\n",
    "        - Custom\n",
    "            - Programming paradigm called \"Object Oriented Programming\"\n",
    "            - can abstract complexity in code by creating a custom object needed to do application\n",
    "              specific "
   ]
  },
  {
   "cell_type": "code",
   "execution_count": 14,
   "metadata": {},
   "outputs": [],
   "source": [
    "a = 1\n",
    "\n",
    "b = 1.1\n",
    "\n",
    "c = \"Tim\"\n"
   ]
  },
  {
   "cell_type": "markdown",
   "metadata": {},
   "source": [
    "- Lists ( a container that can hold multiple variable )"
   ]
  },
  {
   "cell_type": "code",
   "execution_count": 22,
   "metadata": {},
   "outputs": [
    {
     "name": "stdout",
     "output_type": "stream",
     "text": [
      "1 2 3 4 5 1.1 3 "
     ]
    }
   ],
   "source": [
    "a = [1, 2, 3, 4, 5, 1.1, 3]\n",
    "b = [1, 1, 1]\n",
    "\n",
    "for element in a:\n",
    "    print(element, end=\" \")"
   ]
  },
  {
   "cell_type": "markdown",
   "metadata": {},
   "source": [
    "-  Functions ( a piece of code that can be repeatedly called in a program )"
   ]
  },
  {
   "cell_type": "markdown",
   "metadata": {},
   "source": [
    "\n",
    "            "
   ]
  },
  {
   "cell_type": "code",
   "execution_count": 30,
   "metadata": {},
   "outputs": [
    {
     "name": "stdout",
     "output_type": "stream",
     "text": [
      "False\n"
     ]
    }
   ],
   "source": [
    "def search(toFind: int, data: list) -> int:\n",
    "    '''\n",
    "    Search is our first algorithm ! \n",
    "    '''\n",
    "    \n",
    "    for element in data:\n",
    "        if element == toFind:\n",
    "            return True\n",
    "    \n",
    "    return False\n",
    "\n",
    "a = [1.1, 3.2, 4]\n",
    "want_to_find = 3.1\n",
    "print(search(want_to_find, a))"
   ]
  }
 ],
 "metadata": {
  "kernelspec": {
   "display_name": "Python 3",
   "language": "python",
   "name": "python3"
  },
  "language_info": {
   "codemirror_mode": {
    "name": "ipython",
    "version": 3
   },
   "file_extension": ".py",
   "mimetype": "text/x-python",
   "name": "python",
   "nbconvert_exporter": "python",
   "pygments_lexer": "ipython3",
   "version": "3.8.5"
  }
 },
 "nbformat": 4,
 "nbformat_minor": 4
}
