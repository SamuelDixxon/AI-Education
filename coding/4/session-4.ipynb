{
 "cells": [
  {
   "cell_type": "markdown",
   "metadata": {},
   "source": [
    "# Agenda\n",
    "- Explore AI and Human Intuition vs. Reality\n",
    "- Limitations of intuition in the real world with context to \n",
    "statistics and nature\n",
    "    - Famous examples?\n",
    "- Coding application and learning about one famous example "
   ]
  },
  {
   "cell_type": "markdown",
   "metadata": {},
   "source": [
    "# Statistics and Nature | Intuition vs. Reality"
   ]
  },
  {
   "cell_type": "markdown",
   "metadata": {},
   "source": [
    "### How is human intuition misaligned with \n",
    "### reality in the context of statistics?\n",
    " - famous examples?"
   ]
  },
  {
   "cell_type": "markdown",
   "metadata": {},
   "source": [
    "Human intuition can sometimes be misaligned with reality in the context of statistics. Nobel laureate Daniel Kahneman theorizes that intuitive thinking has both advantages and disadvantages: it is faster than a rational approach but more prone to error¹. He proposed that we have two different thought systems: system 1 is fast and intuitive; system 2 is slower and relies on reasoning. The fast system is more prone to error¹. Would you like more information on this topic?\n",
    "\n",
    "Source: Conversation with Bing, 6/9/2023(1) Can We Rely on Our Intuition? - Scientific American. https://www.scientificamerican.com/article/can-we-rely-on-our-intuition/ Accessed 6/9/2023.\n",
    "(2) Are You Still Prioritizing Intuition Over Data? - Harvard Business Review. https://hbr.org/2020/02/are-you-still-prioritizing-intuition-over-data Accessed 6/9/2023.\n",
    "(3) Why Reality is Strange. Human intuition sees reality through a… | by .... https://medium.com/intuitionmachine/why-reality-is-strange-7e0c4e113390 Accessed 6/9/2023.\n",
    "(4) What AI-Driven Decision Making Looks Like - Harvard Business Review. https://hbr.org/2019/07/what-ai-driven-decision-making-looks-like Accessed 6/9/2023.\n",
    "\n",
    "Yes, the gambler's fallacy is an example of a misalignment between human intuition and reality. The gambler's fallacy is the incorrect belief that if a particular event occurs more frequently than normal during the past, it is less likely to happen in the future (or vice versa), when it has otherwise been established that the probability of such events does not depend on what has happened in the past¹. This fallacy can lead people to make incorrect predictions about future events based on past occurrences. Is there anything else you would like to know?\n",
    "\n",
    "Source: Conversation with Bing, 6/9/2023(1) Gambler's fallacy - Wikipedia. https://en.wikipedia.org/wiki/Gambler%27s_fallacy Accessed 6/9/2023.\n",
    "(2) The Gambler’s Fallacy: What It Is and How to Avoid It. https://effectiviology.com/gamblers-fallacy/ Accessed 6/9/2023.\n",
    "(3) Gambler's fallacy - The Decision Lab. https://thedecisionlab.com/biases/gamblers-fallacy Accessed 6/9/2023.\n",
    "(4) What Is the Gambler's Fallacy? - ThoughtCo. https://www.thoughtco.com/what-is-a-gamblers-fallacy-1690884 Accessed 6/9/2023."
   ]
  },
  {
   "cell_type": "markdown",
   "metadata": {},
   "source": [
    "# Famous statistics problem exemplifying \n",
    "# discrepancy in Intuition vs. Reality idea\n",
    "## \"The Three Door Puzzle\" \n",
    "## \"The Monte Hall Problem\"\n",
    "\n",
    "\n",
    "\n",
    "\n",
    "\n",
    "\n",
    "\n",
    "\n"
   ]
  },
  {
   "cell_type": "markdown",
   "metadata": {},
   "source": [
    "### What is the Three Door Puzzle and what\n",
    "### is the historical background on the title\n",
    "### \"Monte Hall Problem?\""
   ]
  },
  {
   "cell_type": "markdown",
   "metadata": {},
   "source": [
    "The Monty Hall problem is a brain teaser in the form of a probability puzzle. It is loosely based on the American television game show \"Let's Make a Deal\" and named after its original host, Monty Hall. The problem was originally posed and solved in a letter by Steve Selvin to the American Statistician in 1975 ¹.\n",
    "\n",
    "In this problem, you are a contestant on a game show and are given the choice of three doors. Behind one door is a car, while behind the other two doors are goats. You pick a door, say door number 1. The host, who knows what is behind each door, opens another door, say door number 3, which has a goat behind it. He then asks you if you want to switch your choice to door number 2. The question is whether it is to your advantage to switch your choice or not.\n",
    "\n",
    "The solution to this problem is that it is to your advantage to switch your choice. Under the standard assumptions of the problem, switching doors gives you a 2/3 chance of winning the car, while sticking with your initial choice gives you only a 1/3 chance ¹. Is there anything else you would like to know?\n",
    "\n",
    "Source: Conversation with Bing, 6/9/2023(1) Monty Hall problem - Wikipedia. https://en.wikipedia.org/wiki/Monty_Hall_problem Accessed 6/9/2023.\n",
    "(2) Monty Hall Problem | Brilliant Math & Science Wiki. https://brilliant.org/wiki/monty-hall-problem/ Accessed 6/9/2023.\n",
    "(3) Monty Hall Problem: Solution Explained Simply - Statistics How To. https://www.statisticshowto.com/probability-and-statistics/monty-hall-problem/ Accessed 6/9/2023."
   ]
  },
  {
   "cell_type": "markdown",
   "metadata": {},
   "source": [
    "### Can you please provide some python\n",
    "### code to explore the idea further and\n",
    "### give more intuition to the idea?"
   ]
  },
  {
   "cell_type": "code",
   "execution_count": 4,
   "metadata": {},
   "outputs": [
    {
     "name": "stdout",
     "output_type": "stream",
     "text": [
      "Winning probability when switching: 0.6647\n",
      "Winning probability when not switching: 0.3268\n"
     ]
    }
   ],
   "source": [
    "import random\n",
    "\n",
    "def monty_hall(switch):\n",
    "    # Set up the doors and randomly choose which one has the car behind it\n",
    "    doors = [1, 2, 3]\n",
    "    car = random.choice(doors)\n",
    "    \n",
    "    # The contestant makes their first choice\n",
    "    first_choice = random.choice(doors)\n",
    "    \n",
    "    # The host reveals a goat behind one of the other doors\n",
    "    doors.remove(first_choice)\n",
    "    if first_choice == car:\n",
    "        reveal = random.choice(doors)\n",
    "        doors.remove(reveal)\n",
    "    else:\n",
    "        doors.remove(car)\n",
    "        reveal = doors[0]\n",
    "    \n",
    "    # The contestant makes their final choice\n",
    "    if switch:\n",
    "        final_choice = [door for door in [1, 2, 3] if door not in [first_choice, reveal]][0]\n",
    "    else:\n",
    "        final_choice = first_choice\n",
    "    \n",
    "    # Return whether the contestant won or not\n",
    "    return final_choice == car\n",
    "\n",
    "# Run the simulation n_simulations times\n",
    "n_simulations = 10000\n",
    "win_when_switching = sum(monty_hall(switch=True) for _ in range(n_simulations))\n",
    "win_when_not_switching = sum(monty_hall(switch=False) for _ in range(n_simulations))\n",
    "\n",
    "# Calculate and print the winning probabilities\n",
    "print(f\"Winning probability when switching: {win_when_switching/n_simulations}\")\n",
    "print(f\"Winning probability when not switching: {win_when_not_switching/n_simulations}\")\n"
   ]
  }
 ],
 "metadata": {
  "kernelspec": {
   "display_name": "Python 3",
   "language": "python",
   "name": "python3"
  },
  "language_info": {
   "codemirror_mode": {
    "name": "ipython",
    "version": 3
   },
   "file_extension": ".py",
   "mimetype": "text/x-python",
   "name": "python",
   "nbconvert_exporter": "python",
   "pygments_lexer": "ipython3",
   "version": "3.8.5"
  }
 },
 "nbformat": 4,
 "nbformat_minor": 4
}
