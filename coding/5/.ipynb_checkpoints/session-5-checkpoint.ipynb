{
 "cells": [
  {
   "cell_type": "markdown",
   "metadata": {},
   "source": [
    "# Financial Future with Google Bard AI (6/9/2023)\n",
    "\n",
    "<br>\n",
    "\n",
    "\n",
    "\n",
    "## Agenda\n",
    "\n",
    "1. #### Where is the world at currently in terms of finance?\n",
    "\n",
    "\n",
    "2. #### Why is financial health important?\n",
    "\n",
    "\n",
    "3. #### What are some of the implications of unhealthy spending habits?\n",
    "\n",
    "\n",
    "4. #### What are some common strategies to practice good financial health?\n",
    "\n",
    "\n",
    "5. #### What are some common pitfalls preventing people from achieving financial freedom?\n",
    "\n"
   ]
  },
  {
   "cell_type": "markdown",
   "metadata": {},
   "source": [
    "\n",
    "## What is the current state of the worlds financial system?"
   ]
  },
  {
   "cell_type": "markdown",
   "metadata": {},
   "source": [
    "<strong>- Please provide some statistical data to support the claims and gather data from  reputable sources.</strong>\n",
    "\n"
   ]
  },
  {
   "cell_type": "markdown",
   "metadata": {},
   "source": []
  },
  {
   "cell_type": "markdown",
   "metadata": {},
   "source": [
    "<strong>- What is the future outlook for the worlds financial systems based on the current state, political relations ( such as the Ukraine war ), and growing industries?"
   ]
  },
  {
   "cell_type": "markdown",
   "metadata": {},
   "source": []
  },
  {
   "cell_type": "markdown",
   "metadata": {},
   "source": [
    "## What does financial health currently look like across different age groups in Amerca?\n"
   ]
  },
  {
   "cell_type": "markdown",
   "metadata": {},
   "source": []
  },
  {
   "cell_type": "markdown",
   "metadata": {},
   "source": [
    "## What are some strategies "
   ]
  },
  {
   "cell_type": "markdown",
   "metadata": {},
   "source": []
  }
 ],
 "metadata": {
  "kernelspec": {
   "display_name": "Python 3",
   "language": "python",
   "name": "python3"
  },
  "language_info": {
   "codemirror_mode": {
    "name": "ipython",
    "version": 3
   },
   "file_extension": ".py",
   "mimetype": "text/x-python",
   "name": "python",
   "nbconvert_exporter": "python",
   "pygments_lexer": "ipython3",
   "version": "3.8.5"
  }
 },
 "nbformat": 4,
 "nbformat_minor": 4
}
