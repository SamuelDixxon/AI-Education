{
 "cells": [
  {
   "cell_type": "markdown",
   "metadata": {},
   "source": [
    "# Agenda\n",
    "- [What is an algorithm recap](#Algorithms)\n",
    "    - [Idea](#Idea)\n",
    "    - [Use](#Use)\n",
    "    - [Examples](#Examples)\n",
    "- [Binary Search](#Binary)\n",
    "    - [Theory](#Theory)\n",
    "    - [Python Code](#Python)"
   ]
  },
  {
   "cell_type": "markdown",
   "metadata": {},
   "source": [
    "# Algorithms\n",
    "#### Idea\n",
    "- An algorithm is an organized way of solving a problem in a finite number of steps\n",
    "\n",
    "#### Use\n",
    "- Where are algorithms used?\n",
    "- What algorithms have significantly changed people's lives and how?\n",
    "\n",
    "#### Importance\n",
    "- The first step to solving a problem is recognizing its existence\n",
    "- Algorithmic thinking is important for solving problems in the world"
   ]
  },
  {
   "cell_type": "markdown",
   "metadata": {},
   "source": [
    "# Binary Search\n",
    "#### Theory behind algorithm\n",
    "- Firstly we need to ask, what problem is being solved?\n",
    "- Then, we need to ask, how is that problem being solved with Binary Search?"
   ]
  },
  {
   "cell_type": "code",
   "execution_count": null,
   "metadata": {},
   "outputs": [],
   "source": []
  },
  {
   "cell_type": "code",
   "execution_count": null,
   "metadata": {},
   "outputs": [],
   "source": []
  },
  {
   "cell_type": "markdown",
   "metadata": {},
   "source": [
    "#### Python Code"
   ]
  },
  {
   "cell_type": "code",
   "execution_count": null,
   "metadata": {},
   "outputs": [],
   "source": []
  }
 ],
 "metadata": {
  "kernelspec": {
   "display_name": "Python 3",
   "language": "python",
   "name": "python3"
  },
  "language_info": {
   "codemirror_mode": {
    "name": "ipython",
    "version": 3
   },
   "file_extension": ".py",
   "mimetype": "text/x-python",
   "name": "python",
   "nbconvert_exporter": "python",
   "pygments_lexer": "ipython3",
   "version": "3.8.5"
  }
 },
 "nbformat": 4,
 "nbformat_minor": 4
}
