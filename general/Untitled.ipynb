{
 "cells": [
  {
   "cell_type": "markdown",
   "metadata": {},
   "source": [
    "# Moravec's Paradox (8/13/2023)\n",
    "\n",
    "<br>\n",
    "\n",
    "\n",
    "\n",
    "## Agenda\n",
    "\n",
    "1. #### [Definition](#Definition)\n",
    "2. #### [Philosophical implications](#Philosophy)\n",
    "3. #### [Conclusion](#Conclusion)"
   ]
  },
  {
   "cell_type": "markdown",
   "metadata": {},
   "source": [
    "## Definition"
   ]
  },
  {
   "cell_type": "markdown",
   "metadata": {},
   "source": [
    "What is Moravec's Paradox?"
   ]
  },
  {
   "cell_type": "markdown",
   "metadata": {},
   "source": [
    "Moravec's Paradox is the observation by artificial intelligence and robotics researchers that, contrary to traditional assumptions, reasoning requires very little computation, but sensorimotor and perception skills require enormous computational resources¹. The principle was articulated by Hans Moravec, Rodney Brooks, Marvin Minsky and others in the 1980s¹. \n",
    "\n",
    "The paradox underlines an essential point in the discussion of artificial intelligence robots, job losses, and the future of work. It’s easier for AI to automate tasks involving high-level reasoning or analysis than it is to automate tasks involving basic sensory or motor skills². \n",
    "\n",
    "The implications of Moravec’s Paradox in the field of AI are profound. It underlines the current limitations of AI and robotics in replicating human-like perception and motor skills, and thus guides researchers towards a more holistic approach in developing intelligent systems². \n",
    "\n",
    "I hope this helps! Let me know if you have any other questions.\n",
    "\n",
    "Source: Conversation with Bing, 8/13/2023\n",
    "(1) Moravec's paradox - Wikipedia. https://en.wikipedia.org/wiki/Moravec%27s_paradox.\n",
    "(2) Moravec's Paradox: What is It and What Does it Mean for AI. https://www.aiplusinfo.com/blog/moravecs-paradox-what-is-it-and-what-does-it-mean-for-ai/.\n",
    "(3) Moravec’s Paradox – AI Ethics. https://ai-ethics.com/2017/05/30/moravecs-paradox-of-artificial-intelligence-and-a-possible-solution-by-hiroshi-yamakawa-with-interesting-ethical-implications/."
   ]
  },
  {
   "cell_type": "markdown",
   "metadata": {},
   "source": [
    "How does it apply to human life and AI advancement?"
   ]
  },
  {
   "cell_type": "markdown",
   "metadata": {},
   "source": [
    "Moravec's Paradox highlights the difference between human and artificial intelligence. The paradox states that reasoning requires very little computation, but sensorimotor and perception skills require enormous computational resources. \n",
    "\n",
    "The biological basis of human skills is one possible explanation of the paradox. All human skills are implemented biologically, using machinery designed by the process of natural selection. In the course of their evolution, natural selection has tended to preserve design improvements and optimizations. The older a skill is, the more time natural selection has had to improve the design. Abstract thought developed only very recently, and consequently, we should not expect its implementation to be particularly efficient. \n",
    "\n",
    "The Moravec Paradox is the primary reason behind the advancement of AI. By the 2020s, computers were hundreds of millions of times faster than in the 1970s, and the additional computer power was finally sufficient to begin to handle perception and sensory skills. \n",
    "\n",
    "I hope this helps! Let me know if you have any other questions."
   ]
  },
  {
   "cell_type": "markdown",
   "metadata": {},
   "source": [
    "## Philosophy"
   ]
  },
  {
   "cell_type": "markdown",
   "metadata": {},
   "source": [
    "What are some philosophical implications behind Moravec's paradox and introduction of AI tools to society?"
   ]
  },
  {
   "cell_type": "markdown",
   "metadata": {},
   "source": [
    "I’m sorry but I couldn’t find any information on the philosophical implications behind Moravec’s paradox and the introduction of AI tools to society. Is there anything else I can help you with?"
   ]
  },
  {
   "cell_type": "markdown",
   "metadata": {},
   "source": [
    "## Conlusion"
   ]
  },
  {
   "cell_type": "markdown",
   "metadata": {},
   "source": [
    "Closing remarks and thoughts"
   ]
  },
  {
   "cell_type": "markdown",
   "metadata": {},
   "source": [
    "- Moravec's paradox provides an interesting discrepancy in computational resources versus human natural selective developed traits\n",
    "- Steven Pinker wrote in 1994 that \"the main lesson of thirty-five years of AI research is that the hard problems are easy and the easy problems are hard.\"\n",
    "- Provides insurance and assurance behind human abilities"
   ]
  }
 ],
 "metadata": {
  "kernelspec": {
   "display_name": "Python 3",
   "language": "python",
   "name": "python3"
  },
  "language_info": {
   "codemirror_mode": {
    "name": "ipython",
    "version": 3
   },
   "file_extension": ".py",
   "mimetype": "text/x-python",
   "name": "python",
   "nbconvert_exporter": "python",
   "pygments_lexer": "ipython3",
   "version": "3.8.5"
  }
 },
 "nbformat": 4,
 "nbformat_minor": 4
}
